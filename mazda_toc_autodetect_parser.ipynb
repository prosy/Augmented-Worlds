{
  "cells": [
    {
      "cell_type": "markdown",
      "metadata": {
        "id": "view-in-github",
        "colab_type": "text"
      },
      "source": [
        "<a href=\"https://colab.research.google.com/github/prosy/Augmented-Worlds/blob/main/mazda_toc_autodetect_parser.ipynb\" target=\"_parent\"><img src=\"https://colab.research.google.com/assets/colab-badge.svg\" alt=\"Open In Colab\"/></a>"
      ]
    },
    {
      "cell_type": "markdown",
      "id": "7953ff0d",
      "metadata": {
        "id": "7953ff0d"
      },
      "source": [
        "# 📘 Mazda Manual Extractor with Auto Table of Contents\n",
        "\n",
        "This notebook:\n",
        "- Finds the 'Table of Contents' page (first 10 pages)\n",
        "- Builds section map (ID → title)\n",
        "- Enriches every heading with `section_id`, `section_title`, and `section_page`"
      ]
    },
    {
      "cell_type": "code",
      "execution_count": null,
      "id": "8f642bbf",
      "metadata": {
        "id": "8f642bbf"
      },
      "outputs": [],
      "source": [
        "!pip install --quiet pymupdf"
      ]
    },
    {
      "cell_type": "code",
      "execution_count": null,
      "id": "892e9d83",
      "metadata": {
        "id": "892e9d83"
      },
      "outputs": [],
      "source": [
        "import fitz  # PyMuPDF\n",
        "import json\n",
        "import os\n",
        "import re\n",
        "from collections import deque"
      ]
    },
    {
      "cell_type": "markdown",
      "id": "b1310209",
      "metadata": {
        "id": "b1310209"
      },
      "source": [
        "## 🔍 Find the 'Table of Contents' Page and Extract Section Map"
      ]
    },
    {
      "cell_type": "code",
      "execution_count": null,
      "id": "79050777",
      "metadata": {
        "id": "79050777"
      },
      "outputs": [],
      "source": [
        "def extract_section_map_from_toc(doc):\n",
        "    for i in range(10):  # Look through first 10 pages\n",
        "        text = doc[i].get_text().lower()\n",
        "        if \"table of contents\" in text:\n",
        "            toc_text = doc[i].get_text()\n",
        "            break\n",
        "    else:\n",
        "        raise ValueError(\"Table of Contents not found in first 10 pages.\")\n",
        "\n",
        "    section_map = {}\n",
        "    for line in toc_text.split(\"\\n\"):\n",
        "        match = re.match(r\"^(\\d)\\s{2,}(.*?)(\\.{2,}|\\s+\\d+)?$\", line.strip())\n",
        "        if match:\n",
        "            section_id = match.group(1)\n",
        "            section_title = match.group(2).strip()\n",
        "            section_map[section_id] = section_title\n",
        "    return section_map\n"
      ]
    },
    {
      "cell_type": "markdown",
      "id": "e0a29f10",
      "metadata": {
        "id": "e0a29f10"
      },
      "source": [
        "## 🧠 Heuristic for Detecting Heading Level"
      ]
    },
    {
      "cell_type": "code",
      "execution_count": null,
      "id": "8eea978e",
      "metadata": {
        "id": "8eea978e"
      },
      "outputs": [],
      "source": [
        "def is_heading(block):\n",
        "    text = block['text'].strip()\n",
        "    size = block['size']\n",
        "\n",
        "    if not text or len(text) < 3:\n",
        "        return 0\n",
        "    if re.match(r'^\\d+-\\d+$', text):\n",
        "        return 0\n",
        "    if text.lower().startswith(\"www\") or text.strip().isdigit():\n",
        "        return 0\n",
        "    if any(char in text for char in ['*', '•']) or text.endswith(\".\"):\n",
        "        return 0\n",
        "    if len(text.split()) == 1 and len(text) <= 3:\n",
        "        return 0\n",
        "\n",
        "    if 7.0 <= size <= 9.5 and len(text) < 80:\n",
        "        return 1\n",
        "    elif size >= 20 and len(text) < 80:\n",
        "        return 2\n",
        "    return 0\n"
      ]
    },
    {
      "cell_type": "markdown",
      "id": "039bc1b8",
      "metadata": {
        "id": "039bc1b8"
      },
      "source": [
        "## 🔍 Extract Footer Marker per Page"
      ]
    },
    {
      "cell_type": "code",
      "execution_count": null,
      "id": "c43b93da",
      "metadata": {
        "id": "c43b93da"
      },
      "outputs": [],
      "source": [
        "def extract_section_marker(page):\n",
        "    blocks = page.get_text(\"blocks\")\n",
        "    for b in blocks:\n",
        "        if b[1] > 700:  # bottom of page\n",
        "            text = b[4].strip()\n",
        "            match = re.match(r'^(\\d{1,2})-(\\d{1,2})\\b', text)\n",
        "            if match:\n",
        "                return match.group(1), match.group(2)\n",
        "    return None, None\n"
      ]
    },
    {
      "cell_type": "markdown",
      "id": "c0c4414c",
      "metadata": {
        "id": "c0c4414c"
      },
      "source": [
        "## 🧱 Main Function: Parse PDF with Section Mapping"
      ]
    },
    {
      "cell_type": "code",
      "execution_count": null,
      "id": "2ad9280f",
      "metadata": {
        "id": "2ad9280f"
      },
      "outputs": [],
      "source": [
        "def parse_pdf_sections(pdf_path):\n",
        "    doc = fitz.open(pdf_path)\n",
        "    section_map = extract_section_map_from_toc(doc)\n",
        "\n",
        "    hierarchy = []\n",
        "    stack = deque()\n",
        "\n",
        "    for page_num, page in enumerate(doc, start=1):\n",
        "        section_id, section_page = extract_section_marker(page)\n",
        "        section_title = section_map.get(section_id, None)\n",
        "\n",
        "        blocks = page.get_text(\"dict\")[\"blocks\"]\n",
        "        for block in blocks:\n",
        "            for line in block.get(\"lines\", []):\n",
        "                for span in line.get(\"spans\", []):\n",
        "                    text = span[\"text\"].strip()\n",
        "                    if not text or len(text) <= 2 or text in [\"*\", \"•\"] or text.lower().startswith(\"www\") or text.isdigit():\n",
        "                        continue\n",
        "                    entry = {\n",
        "                        \"text\": text,\n",
        "                        \"size\": span[\"size\"],\n",
        "                        \"flags\": span[\"flags\"],\n",
        "                        \"font\": span[\"font\"],\n",
        "                        \"page_number\": page_num\n",
        "                    }\n",
        "                    level = is_heading(entry)\n",
        "                    if level:\n",
        "                        parent = stack[-1][\"text\"] if level == 2 and stack else None\n",
        "                        if level == 1:\n",
        "                            stack.clear()\n",
        "                        stack.append(entry)\n",
        "                        hierarchy.append({\n",
        "                            \"text\": text,\n",
        "                            \"section_level\": level,\n",
        "                            \"parent_section\": parent,\n",
        "                            \"page_number\": page_num,\n",
        "                            \"section_id\": section_id,\n",
        "                            \"section_page\": section_page,\n",
        "                            \"section_title\": section_title\n",
        "                        })\n",
        "\n",
        "    return hierarchy\n"
      ]
    },
    {
      "cell_type": "markdown",
      "id": "4dfd46a9",
      "metadata": {
        "id": "4dfd46a9"
      },
      "source": [
        "## 💾 Save as JSON"
      ]
    },
    {
      "cell_type": "code",
      "execution_count": null,
      "id": "4e968863",
      "metadata": {
        "id": "4e968863"
      },
      "outputs": [],
      "source": [
        "def save_to_json(data, output_path):\n",
        "    os.makedirs(os.path.dirname(output_path), exist_ok=True)\n",
        "    with open(output_path, 'w', encoding='utf-8') as f:\n",
        "        json.dump(data, f, indent=2)\n"
      ]
    },
    {
      "cell_type": "markdown",
      "id": "30e100f0",
      "metadata": {
        "id": "30e100f0"
      },
      "source": [
        "## 🚀 Mount Drive and Set Paths"
      ]
    },
    {
      "cell_type": "code",
      "execution_count": null,
      "id": "69b10d92",
      "metadata": {
        "id": "69b10d92"
      },
      "outputs": [],
      "source": [
        "from google.colab import drive\n",
        "drive.mount('/content/drive')\n",
        "\n",
        "pdf_path = '/content/drive/MyDrive/Mazda_PDFs/2019-cx9-owners-manual_GC.pdf'\n",
        "output_json = '/content/drive/MyDrive/Mazda_PDFs/outputs/structured_manual_auto_sections.json'\n"
      ]
    },
    {
      "cell_type": "markdown",
      "id": "f7cd0694",
      "metadata": {
        "id": "f7cd0694"
      },
      "source": [
        "## 🏁 Run the Parser"
      ]
    },
    {
      "cell_type": "code",
      "execution_count": null,
      "id": "0f41345e",
      "metadata": {
        "id": "0f41345e"
      },
      "outputs": [],
      "source": [
        "structured_data = parse_pdf_sections(pdf_path)\n",
        "save_to_json(structured_data, output_json)\n",
        "\n",
        "print(f\"✅ Saved {len(structured_data)} structured entries to {output_json}\")\n"
      ]
    }
  ],
  "metadata": {
    "colab": {
      "provenance": [],
      "include_colab_link": true
    }
  },
  "nbformat": 4,
  "nbformat_minor": 5
}