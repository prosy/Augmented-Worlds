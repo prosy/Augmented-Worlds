{
  "cells": [
    {
      "cell_type": "markdown",
      "metadata": {
        "id": "view-in-github",
        "colab_type": "text"
      },
      "source": [
        "<a href=\"https://colab.research.google.com/github/prosy/Augmented-Worlds/blob/main/pdf_section_hierarchy_cleaned.ipynb\" target=\"_parent\"><img src=\"https://colab.research.google.com/assets/colab-badge.svg\" alt=\"Open In Colab\"/></a>"
      ]
    },
    {
      "cell_type": "markdown",
      "id": "d8db569e",
      "metadata": {
        "id": "d8db569e"
      },
      "source": [
        "# 📘 Cleaned PDF Section Hierarchy Extractor\n",
        "\n",
        "Updated to better detect headings and filter out junk entries."
      ]
    },
    {
      "cell_type": "code",
      "execution_count": null,
      "id": "fa5ac59c",
      "metadata": {
        "colab": {
          "base_uri": "https://localhost:8080/"
        },
        "id": "fa5ac59c",
        "outputId": "5650fa96-ca0e-4c6f-9eb3-f19bb8f7a36d"
      },
      "outputs": [
        {
          "output_type": "stream",
          "name": "stdout",
          "text": [
            "\u001b[2K   \u001b[90m━━━━━━━━━━━━━━━━━━━━━━━━━━━━━━━━━━━━━━━━\u001b[0m \u001b[32m24.1/24.1 MB\u001b[0m \u001b[31m16.3 MB/s\u001b[0m eta \u001b[36m0:00:00\u001b[0m\n",
            "\u001b[?25h"
          ]
        }
      ],
      "source": [
        "# 📦 Step 1: Install Required Packages\n",
        "!pip install --quiet pymupdf\n"
      ]
    },
    {
      "cell_type": "code",
      "execution_count": null,
      "id": "1caf06a1",
      "metadata": {
        "id": "1caf06a1"
      },
      "outputs": [],
      "source": [
        "# 📂 Step 2: Import Libraries\n",
        "import fitz  # PyMuPDF\n",
        "import json\n",
        "import os\n",
        "from collections import deque\n"
      ]
    },
    {
      "cell_type": "code",
      "source": [
        "from google.colab import drive\n",
        "drive.mount('/content/drive')"
      ],
      "metadata": {
        "colab": {
          "base_uri": "https://localhost:8080/"
        },
        "id": "J18Yz-FdU_CK",
        "outputId": "c1986933-83f7-4d92-c90e-8e9eef539974"
      },
      "id": "J18Yz-FdU_CK",
      "execution_count": null,
      "outputs": [
        {
          "output_type": "stream",
          "name": "stdout",
          "text": [
            "Mounted at /content/drive\n"
          ]
        }
      ]
    },
    {
      "cell_type": "markdown",
      "id": "be96e7a9",
      "metadata": {
        "id": "be96e7a9"
      },
      "source": [
        "## 🧠 Function: Improved Heading Classifier"
      ]
    },
    {
      "cell_type": "code",
      "execution_count": null,
      "id": "4a1a5c51",
      "metadata": {
        "id": "4a1a5c51"
      },
      "outputs": [],
      "source": [
        "def is_heading(block):\n",
        "    text = block['text'].strip()\n",
        "    size = block['size']\n",
        "\n",
        "    if not text or len(text) < 3:\n",
        "        return 0\n",
        "    if any(char in text for char in ['*', '•', ':']) or text.lower().startswith(\"www\"):\n",
        "        return 0\n",
        "    if text.strip().isdigit():\n",
        "        return 0\n",
        "\n",
        "    # Section headers (small)\n",
        "    if 7.0 <= size <= 9.5 and len(text) < 80:\n",
        "        return 1\n",
        "    # Subsection/page title (large)\n",
        "    elif size >= 20 and len(text) < 80:\n",
        "        return 2\n",
        "    return 0\n"
      ]
    },
    {
      "cell_type": "markdown",
      "id": "9fbb3b29",
      "metadata": {
        "id": "9fbb3b29"
      },
      "source": [
        "## 🧠 Function: Parse PDF and Extract Section Metadata"
      ]
    },
    {
      "cell_type": "code",
      "execution_count": null,
      "id": "36448380",
      "metadata": {
        "id": "36448380"
      },
      "outputs": [],
      "source": [
        "def parse_pdf_sections(pdf_path):\n",
        "    doc = fitz.open(pdf_path)\n",
        "    hierarchy = []\n",
        "    stack = deque()\n",
        "\n",
        "    for page_num, page in enumerate(doc, start=1):\n",
        "        blocks = page.get_text(\"dict\")[\"blocks\"]\n",
        "        for block in blocks:\n",
        "            for line in block.get(\"lines\", []):\n",
        "                for span in line.get(\"spans\", []):\n",
        "                    text = span[\"text\"].strip()\n",
        "                    if not text or len(text) <= 2 or text in [\"*\", \"•\"] or text.lower().startswith(\"www\") or text.isdigit():\n",
        "                        continue\n",
        "                    entry = {\n",
        "                        \"text\": text,\n",
        "                        \"size\": span[\"size\"],\n",
        "                        \"flags\": span[\"flags\"],\n",
        "                        \"font\": span[\"font\"],\n",
        "                        \"page_number\": page_num\n",
        "                    }\n",
        "                    level = is_heading(entry)\n",
        "                    if level:\n",
        "                        parent = stack[-1][\"text\"] if level == 2 and stack else None\n",
        "                        if level == 1:\n",
        "                            stack.clear()\n",
        "                        stack.append(entry)\n",
        "                        hierarchy.append({\n",
        "                            \"text\": text,\n",
        "                            \"section_level\": level,\n",
        "                            \"parent_section\": parent,\n",
        "                            \"page_number\": page_num\n",
        "                        })\n",
        "\n",
        "    return hierarchy\n"
      ]
    },
    {
      "cell_type": "markdown",
      "id": "486c03f7",
      "metadata": {
        "id": "486c03f7"
      },
      "source": [
        "## 💾 Function: Save Structured Data as JSON"
      ]
    },
    {
      "cell_type": "code",
      "execution_count": null,
      "id": "66aeb921",
      "metadata": {
        "id": "66aeb921"
      },
      "outputs": [],
      "source": [
        "def save_to_json(data, output_path):\n",
        "    os.makedirs(os.path.dirname(output_path), exist_ok=True)\n",
        "    with open(output_path, 'w', encoding='utf-8') as f:\n",
        "        json.dump(data, f, indent=2)\n"
      ]
    },
    {
      "cell_type": "markdown",
      "id": "be5683d2",
      "metadata": {
        "id": "be5683d2"
      },
      "source": [
        "## 🚀 Mount Google Drive & Set File Paths"
      ]
    },
    {
      "cell_type": "code",
      "execution_count": null,
      "id": "d8b049f6",
      "metadata": {
        "colab": {
          "base_uri": "https://localhost:8080/"
        },
        "id": "d8b049f6",
        "outputId": "3327bdda-e0c2-4c62-b065-6b03f62178dd"
      },
      "outputs": [
        {
          "output_type": "stream",
          "name": "stdout",
          "text": [
            "Drive already mounted at /content/drive; to attempt to forcibly remount, call drive.mount(\"/content/drive\", force_remount=True).\n"
          ]
        }
      ],
      "source": [
        "from google.colab import drive\n",
        "drive.mount('/content/drive')\n",
        "\n",
        "pdf_path = '/content/drive/MyDrive/Mazda_PDFs/2019-cx9-owners-manual_GC.pdf'\n",
        "output_json = '/content/drive/MyDrive/Mazda_PDFs/outputs/structured_manual_cleaned.json'\n"
      ]
    },
    {
      "cell_type": "markdown",
      "id": "4cca624b",
      "metadata": {
        "id": "4cca624b"
      },
      "source": [
        "## 🏁 Run Extraction"
      ]
    },
    {
      "cell_type": "code",
      "execution_count": null,
      "id": "53332b32",
      "metadata": {
        "colab": {
          "base_uri": "https://localhost:8080/"
        },
        "id": "53332b32",
        "outputId": "88e2114e-fa21-488b-f732-8293984423e0"
      },
      "outputs": [
        {
          "output_type": "stream",
          "name": "stdout",
          "text": [
            "✅ Saved 6443 structured entries to /content/drive/MyDrive/Mazda_PDFs/outputs/structured_manual_cleaned.json\n"
          ]
        }
      ],
      "source": [
        "structured_data = parse_pdf_sections('/content/drive/MyDrive/Mazda_PDFs/2019-cx9-owners-manual_GC.pdf')\n",
        "save_to_json(structured_data, output_json)\n",
        "\n",
        "print(f\"✅ Saved {len(structured_data)} structured entries to {output_json}\")\n"
      ]
    }
  ],
  "metadata": {
    "colab": {
      "provenance": [],
      "include_colab_link": true
    },
    "language_info": {
      "name": "python"
    },
    "kernelspec": {
      "name": "python3",
      "display_name": "Python 3"
    }
  },
  "nbformat": 4,
  "nbformat_minor": 5
}